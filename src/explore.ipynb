{
    "cells": [
        {
            "cell_type": "markdown",
            "metadata": {},
            "source": [
                "# Explore here\n"
            ]
        },
        {
            "cell_type": "markdown",
            "metadata": {},
            "source": [
                "1. Importing libraries and dataset"
            ]
        },
        {
            "cell_type": "code",
            "execution_count": 1,
            "metadata": {},
            "outputs": [],
            "source": [
                "import pandas as pd\n",
                "import numpy as np\n",
                "import matplotlib.pyplot as plt\n",
                "import seaborn as sns\n",
                "import plotly.express as px"
            ]
        },
        {
            "cell_type": "code",
            "execution_count": 2,
            "metadata": {},
            "outputs": [],
            "source": [
                "df = pd.read_csv('../data/raw/AB_NYC_2019.csv')"
            ]
        },
        {
            "cell_type": "markdown",
            "metadata": {},
            "source": [
                "2. Finding dimensions and size of the dataframe"
            ]
        },
        {
            "cell_type": "code",
            "execution_count": 21,
            "metadata": {},
            "outputs": [
                {
                    "name": "stdout",
                    "output_type": "stream",
                    "text": [
                        "<class 'pandas.core.frame.DataFrame'>\n",
                        "RangeIndex: 48895 entries, 0 to 48894\n",
                        "Data columns (total 16 columns):\n",
                        " #   Column                          Non-Null Count  Dtype  \n",
                        "---  ------                          --------------  -----  \n",
                        " 0   id                              48895 non-null  int64  \n",
                        " 1   name                            48879 non-null  object \n",
                        " 2   host_id                         48895 non-null  int64  \n",
                        " 3   host_name                       48874 non-null  object \n",
                        " 4   neighbourhood_group             48895 non-null  object \n",
                        " 5   neighbourhood                   48895 non-null  object \n",
                        " 6   latitude                        48895 non-null  float64\n",
                        " 7   longitude                       48895 non-null  float64\n",
                        " 8   room_type                       48895 non-null  object \n",
                        " 9   price                           48895 non-null  int64  \n",
                        " 10  minimum_nights                  48895 non-null  int64  \n",
                        " 11  number_of_reviews               48895 non-null  int64  \n",
                        " 12  last_review                     38843 non-null  object \n",
                        " 13  reviews_per_month               38843 non-null  float64\n",
                        " 14  calculated_host_listings_count  48895 non-null  int64  \n",
                        " 15  availability_365                48895 non-null  int64  \n",
                        "dtypes: float64(3), int64(7), object(6)\n",
                        "memory usage: 6.0+ MB\n"
                    ]
                }
            ],
            "source": [
                "df.info() "
            ]
        },
        {
            "cell_type": "markdown",
            "metadata": {},
            "source": [
                "* El dataframe tiene 48895 filas y 16 columnas.\n",
                "* Hay variables con null values (name, host_name, last_review y reviews_per_month).\n",
                "* Hay variables de type 'object', que probablemente sean categóricas."
            ]
        },
        {
            "cell_type": "code",
            "execution_count": 7,
            "metadata": {},
            "outputs": [
                {
                    "data": {
                        "text/html": [
                            "<div>\n",
                            "<style scoped>\n",
                            "    .dataframe tbody tr th:only-of-type {\n",
                            "        vertical-align: middle;\n",
                            "    }\n",
                            "\n",
                            "    .dataframe tbody tr th {\n",
                            "        vertical-align: top;\n",
                            "    }\n",
                            "\n",
                            "    .dataframe thead th {\n",
                            "        text-align: right;\n",
                            "    }\n",
                            "</style>\n",
                            "<table border=\"1\" class=\"dataframe\">\n",
                            "  <thead>\n",
                            "    <tr style=\"text-align: right;\">\n",
                            "      <th></th>\n",
                            "      <th>id</th>\n",
                            "      <th>host_id</th>\n",
                            "      <th>latitude</th>\n",
                            "      <th>longitude</th>\n",
                            "      <th>price</th>\n",
                            "      <th>minimum_nights</th>\n",
                            "      <th>number_of_reviews</th>\n",
                            "      <th>reviews_per_month</th>\n",
                            "      <th>calculated_host_listings_count</th>\n",
                            "      <th>availability_365</th>\n",
                            "    </tr>\n",
                            "  </thead>\n",
                            "  <tbody>\n",
                            "    <tr>\n",
                            "      <th>count</th>\n",
                            "      <td>48895.00</td>\n",
                            "      <td>4.889500e+04</td>\n",
                            "      <td>48895.00</td>\n",
                            "      <td>48895.00</td>\n",
                            "      <td>48895.00</td>\n",
                            "      <td>48895.00</td>\n",
                            "      <td>48895.00</td>\n",
                            "      <td>38843.00</td>\n",
                            "      <td>48895.00</td>\n",
                            "      <td>48895.00</td>\n",
                            "    </tr>\n",
                            "    <tr>\n",
                            "      <th>mean</th>\n",
                            "      <td>19017143.24</td>\n",
                            "      <td>6.762001e+07</td>\n",
                            "      <td>40.73</td>\n",
                            "      <td>-73.95</td>\n",
                            "      <td>152.72</td>\n",
                            "      <td>7.03</td>\n",
                            "      <td>23.27</td>\n",
                            "      <td>1.37</td>\n",
                            "      <td>7.14</td>\n",
                            "      <td>112.78</td>\n",
                            "    </tr>\n",
                            "    <tr>\n",
                            "      <th>std</th>\n",
                            "      <td>10983108.39</td>\n",
                            "      <td>7.861097e+07</td>\n",
                            "      <td>0.05</td>\n",
                            "      <td>0.05</td>\n",
                            "      <td>240.15</td>\n",
                            "      <td>20.51</td>\n",
                            "      <td>44.55</td>\n",
                            "      <td>1.68</td>\n",
                            "      <td>32.95</td>\n",
                            "      <td>131.62</td>\n",
                            "    </tr>\n",
                            "    <tr>\n",
                            "      <th>min</th>\n",
                            "      <td>2539.00</td>\n",
                            "      <td>2.438000e+03</td>\n",
                            "      <td>40.50</td>\n",
                            "      <td>-74.24</td>\n",
                            "      <td>0.00</td>\n",
                            "      <td>1.00</td>\n",
                            "      <td>0.00</td>\n",
                            "      <td>0.01</td>\n",
                            "      <td>1.00</td>\n",
                            "      <td>0.00</td>\n",
                            "    </tr>\n",
                            "    <tr>\n",
                            "      <th>25%</th>\n",
                            "      <td>9471945.00</td>\n",
                            "      <td>7.822033e+06</td>\n",
                            "      <td>40.69</td>\n",
                            "      <td>-73.98</td>\n",
                            "      <td>69.00</td>\n",
                            "      <td>1.00</td>\n",
                            "      <td>1.00</td>\n",
                            "      <td>0.19</td>\n",
                            "      <td>1.00</td>\n",
                            "      <td>0.00</td>\n",
                            "    </tr>\n",
                            "    <tr>\n",
                            "      <th>50%</th>\n",
                            "      <td>19677284.00</td>\n",
                            "      <td>3.079382e+07</td>\n",
                            "      <td>40.72</td>\n",
                            "      <td>-73.96</td>\n",
                            "      <td>106.00</td>\n",
                            "      <td>3.00</td>\n",
                            "      <td>5.00</td>\n",
                            "      <td>0.72</td>\n",
                            "      <td>1.00</td>\n",
                            "      <td>45.00</td>\n",
                            "    </tr>\n",
                            "    <tr>\n",
                            "      <th>75%</th>\n",
                            "      <td>29152178.50</td>\n",
                            "      <td>1.074344e+08</td>\n",
                            "      <td>40.76</td>\n",
                            "      <td>-73.94</td>\n",
                            "      <td>175.00</td>\n",
                            "      <td>5.00</td>\n",
                            "      <td>24.00</td>\n",
                            "      <td>2.02</td>\n",
                            "      <td>2.00</td>\n",
                            "      <td>227.00</td>\n",
                            "    </tr>\n",
                            "    <tr>\n",
                            "      <th>max</th>\n",
                            "      <td>36487245.00</td>\n",
                            "      <td>2.743213e+08</td>\n",
                            "      <td>40.91</td>\n",
                            "      <td>-73.71</td>\n",
                            "      <td>10000.00</td>\n",
                            "      <td>1250.00</td>\n",
                            "      <td>629.00</td>\n",
                            "      <td>58.50</td>\n",
                            "      <td>327.00</td>\n",
                            "      <td>365.00</td>\n",
                            "    </tr>\n",
                            "  </tbody>\n",
                            "</table>\n",
                            "</div>"
                        ],
                        "text/plain": [
                            "                id       host_id  latitude  longitude     price  \\\n",
                            "count     48895.00  4.889500e+04  48895.00   48895.00  48895.00   \n",
                            "mean   19017143.24  6.762001e+07     40.73     -73.95    152.72   \n",
                            "std    10983108.39  7.861097e+07      0.05       0.05    240.15   \n",
                            "min        2539.00  2.438000e+03     40.50     -74.24      0.00   \n",
                            "25%     9471945.00  7.822033e+06     40.69     -73.98     69.00   \n",
                            "50%    19677284.00  3.079382e+07     40.72     -73.96    106.00   \n",
                            "75%    29152178.50  1.074344e+08     40.76     -73.94    175.00   \n",
                            "max    36487245.00  2.743213e+08     40.91     -73.71  10000.00   \n",
                            "\n",
                            "       minimum_nights  number_of_reviews  reviews_per_month  \\\n",
                            "count        48895.00           48895.00           38843.00   \n",
                            "mean             7.03              23.27               1.37   \n",
                            "std             20.51              44.55               1.68   \n",
                            "min              1.00               0.00               0.01   \n",
                            "25%              1.00               1.00               0.19   \n",
                            "50%              3.00               5.00               0.72   \n",
                            "75%              5.00              24.00               2.02   \n",
                            "max           1250.00             629.00              58.50   \n",
                            "\n",
                            "       calculated_host_listings_count  availability_365  \n",
                            "count                        48895.00          48895.00  \n",
                            "mean                             7.14            112.78  \n",
                            "std                             32.95            131.62  \n",
                            "min                              1.00              0.00  \n",
                            "25%                              1.00              0.00  \n",
                            "50%                              1.00             45.00  \n",
                            "75%                              2.00            227.00  \n",
                            "max                            327.00            365.00  "
                        ]
                    },
                    "execution_count": 7,
                    "metadata": {},
                    "output_type": "execute_result"
                }
            ],
            "source": [
                "round(df.describe(), 2)\n",
                " #Le ponemos el round porque corrimos el describe solo y al tener muchos dígitos es difícil de visualizar"
            ]
        },
        {
            "cell_type": "code",
            "execution_count": 6,
            "metadata": {},
            "outputs": [
                {
                    "data": {
                        "text/html": [
                            "<div>\n",
                            "<style scoped>\n",
                            "    .dataframe tbody tr th:only-of-type {\n",
                            "        vertical-align: middle;\n",
                            "    }\n",
                            "\n",
                            "    .dataframe tbody tr th {\n",
                            "        vertical-align: top;\n",
                            "    }\n",
                            "\n",
                            "    .dataframe thead th {\n",
                            "        text-align: right;\n",
                            "    }\n",
                            "</style>\n",
                            "<table border=\"1\" class=\"dataframe\">\n",
                            "  <thead>\n",
                            "    <tr style=\"text-align: right;\">\n",
                            "      <th></th>\n",
                            "      <th>name</th>\n",
                            "      <th>host_name</th>\n",
                            "      <th>neighbourhood_group</th>\n",
                            "      <th>neighbourhood</th>\n",
                            "      <th>room_type</th>\n",
                            "      <th>last_review</th>\n",
                            "    </tr>\n",
                            "  </thead>\n",
                            "  <tbody>\n",
                            "    <tr>\n",
                            "      <th>count</th>\n",
                            "      <td>48879</td>\n",
                            "      <td>48874</td>\n",
                            "      <td>48895</td>\n",
                            "      <td>48895</td>\n",
                            "      <td>48895</td>\n",
                            "      <td>38843</td>\n",
                            "    </tr>\n",
                            "    <tr>\n",
                            "      <th>unique</th>\n",
                            "      <td>47905</td>\n",
                            "      <td>11452</td>\n",
                            "      <td>5</td>\n",
                            "      <td>221</td>\n",
                            "      <td>3</td>\n",
                            "      <td>1764</td>\n",
                            "    </tr>\n",
                            "    <tr>\n",
                            "      <th>top</th>\n",
                            "      <td>Hillside Hotel</td>\n",
                            "      <td>Michael</td>\n",
                            "      <td>Manhattan</td>\n",
                            "      <td>Williamsburg</td>\n",
                            "      <td>Entire home/apt</td>\n",
                            "      <td>2019-06-23</td>\n",
                            "    </tr>\n",
                            "    <tr>\n",
                            "      <th>freq</th>\n",
                            "      <td>18</td>\n",
                            "      <td>417</td>\n",
                            "      <td>21661</td>\n",
                            "      <td>3920</td>\n",
                            "      <td>25409</td>\n",
                            "      <td>1413</td>\n",
                            "    </tr>\n",
                            "  </tbody>\n",
                            "</table>\n",
                            "</div>"
                        ],
                        "text/plain": [
                            "                  name host_name neighbourhood_group neighbourhood  \\\n",
                            "count            48879     48874               48895         48895   \n",
                            "unique           47905     11452                   5           221   \n",
                            "top     Hillside Hotel   Michael           Manhattan  Williamsburg   \n",
                            "freq                18       417               21661          3920   \n",
                            "\n",
                            "              room_type last_review  \n",
                            "count             48895       38843  \n",
                            "unique                3        1764  \n",
                            "top     Entire home/apt  2019-06-23  \n",
                            "freq              25409        1413  "
                        ]
                    },
                    "execution_count": 6,
                    "metadata": {},
                    "output_type": "execute_result"
                }
            ],
            "source": [
                "#Describe for categorical variables\n",
                "df.describe(include = classmethod) \n",
                "#df.describe(include = 'object') #same output"
            ]
        },
        {
            "cell_type": "markdown",
            "metadata": {},
            "source": [
                "Things that stand out: \n",
                "* Hay precios con valor 0\n",
                "* El precio máximo es 10000, bastante más alto que la media y la mediana\n",
                "* El máximo de minimum_nights es 1250"
            ]
        },
        {
            "cell_type": "code",
            "execution_count": 6,
            "metadata": {},
            "outputs": [],
            "source": [
                "#Transformamos datatypes\n",
                "for col in ['neighbourhood', 'neighbourhood_group', 'room_type', 'host_id']:\n",
                "    df[col] = df[col].astype('category')\n",
                "\n",
                "df['last_review'] = pd.to_datetime(df['last_review'], format=\"%Y/%m/%d\")"
            ]
        },
        {
            "cell_type": "code",
            "execution_count": 71,
            "metadata": {},
            "outputs": [
                {
                    "name": "stdout",
                    "output_type": "stream",
                    "text": [
                        "<class 'pandas.core.frame.DataFrame'>\n",
                        "RangeIndex: 48895 entries, 0 to 48894\n",
                        "Data columns (total 16 columns):\n",
                        " #   Column                          Non-Null Count  Dtype         \n",
                        "---  ------                          --------------  -----         \n",
                        " 0   id                              48895 non-null  int64         \n",
                        " 1   name                            48879 non-null  object        \n",
                        " 2   host_id                         48895 non-null  category      \n",
                        " 3   host_name                       48874 non-null  object        \n",
                        " 4   neighbourhood_group             48895 non-null  category      \n",
                        " 5   neighbourhood                   48895 non-null  category      \n",
                        " 6   latitude                        48895 non-null  float64       \n",
                        " 7   longitude                       48895 non-null  float64       \n",
                        " 8   room_type                       48895 non-null  category      \n",
                        " 9   price                           48895 non-null  int64         \n",
                        " 10  minimum_nights                  48895 non-null  int64         \n",
                        " 11  number_of_reviews               48895 non-null  int64         \n",
                        " 12  last_review                     38843 non-null  datetime64[ns]\n",
                        " 13  reviews_per_month               38843 non-null  float64       \n",
                        " 14  calculated_host_listings_count  48895 non-null  int64         \n",
                        " 15  availability_365                48895 non-null  int64         \n",
                        "dtypes: category(4), datetime64[ns](1), float64(3), int64(6), object(2)\n",
                        "memory usage: 6.2+ MB\n"
                    ]
                }
            ],
            "source": [
                "df.info() #Para chequear que la transformación quedó bien"
            ]
        },
        {
            "cell_type": "markdown",
            "metadata": {},
            "source": [
                "3. Eliminating duplicate and irrelevant data"
            ]
        },
        {
            "cell_type": "code",
            "execution_count": 47,
            "metadata": {},
            "outputs": [
                {
                    "data": {
                        "text/plain": [
                            "11"
                        ]
                    },
                    "execution_count": 47,
                    "metadata": {},
                    "output_type": "execute_result"
                }
            ],
            "source": [
                "len(df[df['price'] == 0]) "
            ]
        },
        {
            "cell_type": "code",
            "execution_count": 9,
            "metadata": {},
            "outputs": [],
            "source": [
                "df = df[df['price'] != 0]\n",
                "#Como hay solo 11 observaciones de 'precio' con valor 0, las eliminamos:"
            ]
        },
        {
            "cell_type": "code",
            "execution_count": 27,
            "metadata": {},
            "outputs": [
                {
                    "name": "stdout",
                    "output_type": "stream",
                    "text": [
                        "Parece haber 0 valores duplicados en el dataset considerando la variable id.\n"
                    ]
                }
            ],
            "source": [
                "df_duplicates = df['id'].duplicated().sum()\n",
                "print(f'Parece haber {df_duplicates} valores duplicados en el dataset considerando la variable id.')"
            ]
        },
        {
            "cell_type": "code",
            "execution_count": null,
            "metadata": {},
            "outputs": [],
            "source": [
                "#Pregunta: Debería dropear las columnas que no son tan relevantes? Tipo host_name, host_id?"
            ]
        },
        {
            "cell_type": "markdown",
            "metadata": {},
            "source": [
                "4. Exploring relevant data columns"
            ]
        },
        {
            "cell_type": "code",
            "execution_count": 14,
            "metadata": {},
            "outputs": [
                {
                    "data": {
                        "image/png": "[encoded data removed]",
                        "text/plain": [
                            "<Figure size 648x504 with 12 Axes>"
                        ]
                    },
                    "metadata": {
                        "needs_background": "light"
                    },
                    "output_type": "display_data"
                }
            ],
            "source": [
                "df.hist(bins=10,figsize=(9,7),grid=False)\n",
                "plt.show()"
            ]
        },
        {
            "cell_type": "markdown",
            "metadata": {},
            "source": [
                "* **Price:**"
            ]
        },
        {
            "cell_type": "code",
            "execution_count": 15,
            "metadata": {},
            "outputs": [
                {
                    "data": {
                        "text/plain": [
                            "<AxesSubplot:ylabel='price'>"
                        ]
                    },
                    "execution_count": 15,
                    "metadata": {},
                    "output_type": "execute_result"
                },
                {
                    "data": {
                        "image/png": "[encoded data removed]",
                        "text/plain": [
                            "<Figure size 864x576 with 1 Axes>"
                        ]
                    },
                    "metadata": {
                        "needs_background": "light"
                    },
                    "output_type": "display_data"
                }
            ],
            "source": [
                "plt.figure(figsize = (12, 8))\n",
                "sns.boxplot(y = df.price, showfliers = True, palette = 'gist_heat')"
            ]
        },
        {
            "cell_type": "code",
            "execution_count": 24,
            "metadata": {},
            "outputs": [
                {
                    "data": {
                        "text/plain": [
                            "219517861    327\n",
                            "107434423    232\n",
                            "30283594     121\n",
                            "137358866    103\n",
                            "16098958      96\n",
                            "12243051      96\n",
                            "61391963      91\n",
                            "22541573      87\n",
                            "200380610     65\n",
                            "1475015       52\n",
                            "Name: host_id, dtype: int64"
                        ]
                    },
                    "execution_count": 24,
                    "metadata": {},
                    "output_type": "execute_result"
                }
            ],
            "source": [
                "df['host_id'].value_counts()[:10] \n",
                "#Top de los 10 hosts con más publicaciones"
            ]
        },
        {
            "cell_type": "code",
            "execution_count": 19,
            "metadata": {},
            "outputs": [
                {
                    "data": {
                        "text/plain": [
                            "host_id\n",
                            "37312959     2273\n",
                            "344035       2205\n",
                            "26432133     2017\n",
                            "35524316     1971\n",
                            "40176101     1818\n",
                            "4734398      1798\n",
                            "16677326     1355\n",
                            "6885157      1346\n",
                            "219517861    1281\n",
                            "23591164     1269\n",
                            "Name: number_of_reviews, dtype: int64"
                        ]
                    },
                    "execution_count": 19,
                    "metadata": {},
                    "output_type": "execute_result"
                }
            ],
            "source": [
                "df.groupby('host_id')['number_of_reviews'].sum().sort_values(ascending = False)[:10]\n",
                "#Top de los 10 hosts con más reviews"
            ]
        },
        {
            "cell_type": "markdown",
            "metadata": {},
            "source": [
                "5. Finding null values"
            ]
        },
        {
            "cell_type": "code",
            "execution_count": 29,
            "metadata": {},
            "outputs": [
                {
                    "name": "stdout",
                    "output_type": "stream",
                    "text": [
                        "Numerical variables: Index(['id', 'host_id', 'latitude', 'longitude', 'price', 'minimum_nights',\n",
                        "       'number_of_reviews', 'reviews_per_month',\n",
                        "       'calculated_host_listings_count', 'availability_365'],\n",
                        "      dtype='object')\n",
                        "Categorical variables: Index(['name', 'host_name', 'neighbourhood_group', 'neighbourhood',\n",
                        "       'room_type', 'last_review'],\n",
                        "      dtype='object')\n"
                    ]
                }
            ],
            "source": [
                "num_vars = df.columns[df.dtypes != 'object'] 'id', 'host_id', 'latitude', 'longitude', 'price', 'minimum_nights', 'number_of_reviews', \n",
                "cat_vars = df.columns[df.dtypes == 'category']'name', 'host_name', 'neighbourhouud_group', 'neighbourhood', 'room_type', 'last_review'\n",
                "\n",
                "print(\"Numerical variables:\", num_vars)\n",
                "print(\"Categorical variables:\", cat_vars)"
            ]
        },
        {
            "cell_type": "code",
            "execution_count": 30,
            "metadata": {},
            "outputs": [
                {
                    "data": {
                        "text/plain": [
                            "id                                    0\n",
                            "host_id                               0\n",
                            "latitude                              0\n",
                            "longitude                             0\n",
                            "price                                 0\n",
                            "minimum_nights                        0\n",
                            "number_of_reviews                     0\n",
                            "reviews_per_month                 10052\n",
                            "calculated_host_listings_count        0\n",
                            "availability_365                      0\n",
                            "dtype: int64"
                        ]
                    },
                    "execution_count": 30,
                    "metadata": {},
                    "output_type": "execute_result"
                }
            ],
            "source": [
                "df[num_vars].isnull().sum()\n",
                "#reviews_per_month tiene valores NA"
            ]
        },
        {
            "cell_type": "code",
            "execution_count": 31,
            "metadata": {},
            "outputs": [
                {
                    "data": {
                        "text/plain": [
                            "name                      16\n",
                            "host_name                 21\n",
                            "neighbourhood_group        0\n",
                            "neighbourhood              0\n",
                            "room_type                  0\n",
                            "last_review            10052\n",
                            "dtype: int64"
                        ]
                    },
                    "execution_count": 31,
                    "metadata": {},
                    "output_type": "execute_result"
                }
            ],
            "source": [
                "df[cat_vars].isnull().sum()\n",
                "#name, host_name y last_review tiene valores NA\n",
                "#name y host_name no son relevantes para el análisis?\n",
                "#Pregunta para Leonardo: Si yo quisiera ver qué tienen esas rows que tienen null en name cómo hago? Tipo como un filter(name == NA)  %>% View() de R"
            ]
        },
        {
            "cell_type": "code",
            "execution_count": 38,
            "metadata": {},
            "outputs": [
                {
                    "data": {
                        "text/plain": [
                            "count    10052.0\n",
                            "mean         0.0\n",
                            "std          0.0\n",
                            "min          0.0\n",
                            "25%          0.0\n",
                            "50%          0.0\n",
                            "75%          0.0\n",
                            "max          0.0\n",
                            "Name: number_of_reviews, dtype: float64"
                        ]
                    },
                    "execution_count": 38,
                    "metadata": {},
                    "output_type": "execute_result"
                }
            ],
            "source": [
                "df[df['reviews_per_month'].isnull()]['number_of_reviews'].describe()\n",
                "#Los listings que tienen 0 reviews son los mismos que tienen null values en reviews_per_month"
            ]
        },
        {
            "cell_type": "code",
            "execution_count": 27,
            "metadata": {},
            "outputs": [],
            "source": [
                "df['reviews_per_month'] = df['reviews_per_month'].fillna(0)\n",
                "#Pasamos a 0 los null values de reviews_per_month"
            ]
        },
        {
            "cell_type": "code",
            "execution_count": 39,
            "metadata": {},
            "outputs": [
                {
                    "data": {
                        "text/plain": [
                            "count    10052.0\n",
                            "mean         0.0\n",
                            "std          0.0\n",
                            "min          0.0\n",
                            "25%          0.0\n",
                            "50%          0.0\n",
                            "75%          0.0\n",
                            "max          0.0\n",
                            "Name: number_of_reviews, dtype: float64"
                        ]
                    },
                    "execution_count": 39,
                    "metadata": {},
                    "output_type": "execute_result"
                }
            ],
            "source": [
                "df[df['last_review'].isnull()]['number_of_reviews'].describe()\n",
                "#Los listings que tienen 0 reviews son los mismos que tienen null values en last_review"
            ]
        },
        {
            "cell_type": "code",
            "execution_count": 40,
            "metadata": {},
            "outputs": [],
            "source": [
                "df['last_review'] = df['last_review'].fillna(0)\n",
                "#Pasamos a 0 los null values de last_review"
            ]
        },
        {
            "cell_type": "markdown",
            "metadata": {},
            "source": [
                "6. Plotting features against each other"
            ]
        },
        {
            "cell_type": "code",
            "execution_count": 12,
            "metadata": {},
            "outputs": [
                {
                    "data": {
                        "image/png": "[encoded data removed]",
                        "text/plain": [
                            "<Figure size 864x576 with 2 Axes>"
                        ]
                    },
                    "metadata": {
                        "needs_background": "light"
                    },
                    "output_type": "display_data"
                }
            ],
            "source": [
                "#Plotting a heatmap to find relations between features\n",
                "\n",
                "plt.figure(figsize=(12, 8))\n",
                "sns.heatmap(df[['price', 'number_of_reviews', 'last_review', 'reviews_per_month', 'calculated_host_listings_count', 'availability_365']].corr(), annot=True, cmap='viridis')\n",
                "plt.show()\n",
                "\n",
                "#Reviews per month y number of reviews están correlacionadas (seems pretty obvious)\n",
                "#Number of reviews y listings tienen relación negativa porque a menos listings tiene sentido que tengas menos reviews"
            ]
        },
        {
            "cell_type": "markdown",
            "metadata": {},
            "source": [
                "7. Encoding categorical variables"
            ]
        },
        {
            "cell_type": "code",
            "execution_count": 22,
            "metadata": {},
            "outputs": [],
            "source": [
                "#Pregunta:\n",
                "#Se pueden encodear cosas con 0 1 2 3 o tienen que ser sí o sí dummies?\n",
                "#Cómo se hace para encodear por ejemplo neighbourhood que tiene 221 categs?"
            ]
        },
        {
            "cell_type": "code",
            "execution_count": 18,
            "metadata": {},
            "outputs": [
                {
                    "data": {
                        "text/plain": [
                            "['Private room', 'Entire home/apt', 'Shared room']\n",
                            "Categories (3, object): ['Entire home/apt', 'Private room', 'Shared room']"
                        ]
                    },
                    "execution_count": 18,
                    "metadata": {},
                    "output_type": "execute_result"
                }
            ],
            "source": [
                "df['room_type'].unique()\n",
                "#Tiene 3 categorías: 'Entire home/apt', 'Private room', 'Shared room'"
            ]
        },
        {
            "cell_type": "code",
            "execution_count": 20,
            "metadata": {},
            "outputs": [
                {
                    "data": {
                        "text/plain": [
                            "['Kensington', 'Midtown', 'Harlem', 'Clinton Hill', 'East Harlem', ..., 'Bull's Head', 'New Dorp', 'Rossville', 'Breezy Point', 'Willowbrook']\n",
                            "Length: 221\n",
                            "Categories (221, object): ['Allerton', 'Arden Heights', 'Arrochar', 'Arverne', ..., 'Woodhaven', 'Woodlawn', 'Woodrow', 'Woodside']"
                        ]
                    },
                    "execution_count": 20,
                    "metadata": {},
                    "output_type": "execute_result"
                }
            ],
            "source": [
                "df['neighbourhood'].unique()\n",
                "# Tiene 221 categorías: 'Allerton', 'Arden Heights', 'Arrochar', 'Arverne', ..., 'Woodhaven', 'Woodlawn', 'Woodrow', 'Woodside'"
            ]
        },
        {
            "cell_type": "code",
            "execution_count": 21,
            "metadata": {},
            "outputs": [
                {
                    "data": {
                        "text/plain": [
                            "['Brooklyn', 'Manhattan', 'Queens', 'Staten Island', 'Bronx']\n",
                            "Categories (5, object): ['Bronx', 'Brooklyn', 'Manhattan', 'Queens', 'Staten Island']"
                        ]
                    },
                    "execution_count": 21,
                    "metadata": {},
                    "output_type": "execute_result"
                }
            ],
            "source": [
                "df['neighbourhood_group'].unique()\n",
                "#Tiene 5 categorías: Bronx, Brooklyn, Manhattan, Queens, Staten Island"
            ]
        }
    ],
    "metadata": {
        "kernelspec": {
            "display_name": "Python 3.8.13 64-bit ('3.8.13')",
            "language": "python",
            "name": "python3"
        },
        "language_info": {
            "codemirror_mode": {
                "name": "ipython",
                "version": 3
            },
            "file_extension": ".py",
            "mimetype": "text/x-python",
            "name": "python",
            "nbconvert_exporter": "python",
            "pygments_lexer": "ipython3",
            "version": "3.8.13"
        },
        "orig_nbformat": 4,
        "vscode": {
            "interpreter": {
                "hash": "110cc1dee26208153f2972f08a2ad52b6a56238dc66d48e87fb757ef2996db56"
            }
        }
    },
    "nbformat": 4,
    "nbformat_minor": 2
}
